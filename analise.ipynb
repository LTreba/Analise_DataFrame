{
  "nbformat": 4,
  "nbformat_minor": 0,
  "metadata": {
    "celltoolbar": "Edit Metadata",
    "colab": {
      "provenance": [],
      "include_colab_link": true
    },
    "kernelspec": {
      "display_name": "Python 3",
      "language": "python",
      "name": "python3"
    },
    "language_info": {
      "codemirror_mode": {
        "name": "ipython",
        "version": 3
      },
      "file_extension": ".py",
      "mimetype": "text/x-python",
      "name": "python",
      "nbconvert_exporter": "python",
      "pygments_lexer": "ipython3",
      "version": "3.6.13"
    }
  },
  "cells": [
    {
      "cell_type": "markdown",
      "metadata": {
        "id": "view-in-github",
        "colab_type": "text"
      },
      "source": [
        "<a href=\"https://colab.research.google.com/github/LTreba/Analise_DataFrame/blob/main/analise.ipynb\" target=\"_parent\"><img src=\"https://colab.research.google.com/assets/colab-badge.svg\" alt=\"Open In Colab\"/></a>"
      ]
    },
    {
      "cell_type": "markdown",
      "source": [
        "# Basic imports"
      ],
      "metadata": {
        "id": "6AsPs0GIlyle"
      }
    },
    {
      "cell_type": "code",
      "metadata": {
        "id": "jf4DkEBpGdr4"
      },
      "source": [
        "import numpy as np\n",
        "import pandas as pd\n",
        "import matplotlib.pyplot as plt             \n",
        "%matplotlib inline\n",
        "import seaborn as sns\n"
      ],
      "execution_count": null,
      "outputs": []
    },
    {
      "cell_type": "markdown",
      "metadata": {
        "id": "te1NO4UoLvgn"
      },
      "source": [
        "## **CASE: Insurance** \n",
        "\n",
        "Acesse a base de dados [`insurance`](https://github.com/Rogerio-mack/Analise_de_dados_labs/raw/main/insurance.csv) para as questões a seguir.\n",
        "\n"
      ]
    },
    {
      "cell_type": "markdown",
      "metadata": {
        "id": "1M0SwWQ-bH7M"
      },
      "source": [
        "##### Q1. Acesse os dados explore a estrutura básica dos dados de `insurance`.\n",
        "\n",
        "> * Qual o número de caso de seguro? \n",
        "> * Quantos atributos são numéricos? \n",
        "> * Há quantos valores diferentes para região? \n",
        "> * Qual a maior quantidade de filhos? "
      ]
    },
    {
      "cell_type": "code",
      "source": [
        "df = pd.read_csv(\"https://raw.githubusercontent.com/Rogerio-mack/Analise_de_dados_labs/main/insurance.csv\")\n",
        "df.head()"
      ],
      "metadata": {
        "colab": {
          "base_uri": "https://localhost:8080/",
          "height": 206
        },
        "id": "1oH0vUiHp3KD",
        "outputId": "080dcf1b-1026-4baf-aa7c-e616cef0cc10"
      },
      "execution_count": null,
      "outputs": [
        {
          "output_type": "execute_result",
          "data": {
            "text/plain": [
              "   age     sex     bmi  children smoker     region      charges\n",
              "0   19  female  27.900         0    yes  southwest  16884.92400\n",
              "1   18    male  33.770         1     no  southeast   1725.55230\n",
              "2   28    male  33.000         3     no  southeast   4449.46200\n",
              "3   33    male  22.705         0     no  northwest  21984.47061\n",
              "4   32    male  28.880         0     no  northwest   3866.85520"
            ],
            "text/html": [
              "\n",
              "  <div id=\"df-fe0537fd-ef01-4d1e-8389-c9fa92a228a9\">\n",
              "    <div class=\"colab-df-container\">\n",
              "      <div>\n",
              "<style scoped>\n",
              "    .dataframe tbody tr th:only-of-type {\n",
              "        vertical-align: middle;\n",
              "    }\n",
              "\n",
              "    .dataframe tbody tr th {\n",
              "        vertical-align: top;\n",
              "    }\n",
              "\n",
              "    .dataframe thead th {\n",
              "        text-align: right;\n",
              "    }\n",
              "</style>\n",
              "<table border=\"1\" class=\"dataframe\">\n",
              "  <thead>\n",
              "    <tr style=\"text-align: right;\">\n",
              "      <th></th>\n",
              "      <th>age</th>\n",
              "      <th>sex</th>\n",
              "      <th>bmi</th>\n",
              "      <th>children</th>\n",
              "      <th>smoker</th>\n",
              "      <th>region</th>\n",
              "      <th>charges</th>\n",
              "    </tr>\n",
              "  </thead>\n",
              "  <tbody>\n",
              "    <tr>\n",
              "      <th>0</th>\n",
              "      <td>19</td>\n",
              "      <td>female</td>\n",
              "      <td>27.900</td>\n",
              "      <td>0</td>\n",
              "      <td>yes</td>\n",
              "      <td>southwest</td>\n",
              "      <td>16884.92400</td>\n",
              "    </tr>\n",
              "    <tr>\n",
              "      <th>1</th>\n",
              "      <td>18</td>\n",
              "      <td>male</td>\n",
              "      <td>33.770</td>\n",
              "      <td>1</td>\n",
              "      <td>no</td>\n",
              "      <td>southeast</td>\n",
              "      <td>1725.55230</td>\n",
              "    </tr>\n",
              "    <tr>\n",
              "      <th>2</th>\n",
              "      <td>28</td>\n",
              "      <td>male</td>\n",
              "      <td>33.000</td>\n",
              "      <td>3</td>\n",
              "      <td>no</td>\n",
              "      <td>southeast</td>\n",
              "      <td>4449.46200</td>\n",
              "    </tr>\n",
              "    <tr>\n",
              "      <th>3</th>\n",
              "      <td>33</td>\n",
              "      <td>male</td>\n",
              "      <td>22.705</td>\n",
              "      <td>0</td>\n",
              "      <td>no</td>\n",
              "      <td>northwest</td>\n",
              "      <td>21984.47061</td>\n",
              "    </tr>\n",
              "    <tr>\n",
              "      <th>4</th>\n",
              "      <td>32</td>\n",
              "      <td>male</td>\n",
              "      <td>28.880</td>\n",
              "      <td>0</td>\n",
              "      <td>no</td>\n",
              "      <td>northwest</td>\n",
              "      <td>3866.85520</td>\n",
              "    </tr>\n",
              "  </tbody>\n",
              "</table>\n",
              "</div>\n",
              "      <button class=\"colab-df-convert\" onclick=\"convertToInteractive('df-fe0537fd-ef01-4d1e-8389-c9fa92a228a9')\"\n",
              "              title=\"Convert this dataframe to an interactive table.\"\n",
              "              style=\"display:none;\">\n",
              "        \n",
              "  <svg xmlns=\"http://www.w3.org/2000/svg\" height=\"24px\"viewBox=\"0 0 24 24\"\n",
              "       width=\"24px\">\n",
              "    <path d=\"M0 0h24v24H0V0z\" fill=\"none\"/>\n",
              "    <path d=\"M18.56 5.44l.94 2.06.94-2.06 2.06-.94-2.06-.94-.94-2.06-.94 2.06-2.06.94zm-11 1L8.5 8.5l.94-2.06 2.06-.94-2.06-.94L8.5 2.5l-.94 2.06-2.06.94zm10 10l.94 2.06.94-2.06 2.06-.94-2.06-.94-.94-2.06-.94 2.06-2.06.94z\"/><path d=\"M17.41 7.96l-1.37-1.37c-.4-.4-.92-.59-1.43-.59-.52 0-1.04.2-1.43.59L10.3 9.45l-7.72 7.72c-.78.78-.78 2.05 0 2.83L4 21.41c.39.39.9.59 1.41.59.51 0 1.02-.2 1.41-.59l7.78-7.78 2.81-2.81c.8-.78.8-2.07 0-2.86zM5.41 20L4 18.59l7.72-7.72 1.47 1.35L5.41 20z\"/>\n",
              "  </svg>\n",
              "      </button>\n",
              "      \n",
              "  <style>\n",
              "    .colab-df-container {\n",
              "      display:flex;\n",
              "      flex-wrap:wrap;\n",
              "      gap: 12px;\n",
              "    }\n",
              "\n",
              "    .colab-df-convert {\n",
              "      background-color: #E8F0FE;\n",
              "      border: none;\n",
              "      border-radius: 50%;\n",
              "      cursor: pointer;\n",
              "      display: none;\n",
              "      fill: #1967D2;\n",
              "      height: 32px;\n",
              "      padding: 0 0 0 0;\n",
              "      width: 32px;\n",
              "    }\n",
              "\n",
              "    .colab-df-convert:hover {\n",
              "      background-color: #E2EBFA;\n",
              "      box-shadow: 0px 1px 2px rgba(60, 64, 67, 0.3), 0px 1px 3px 1px rgba(60, 64, 67, 0.15);\n",
              "      fill: #174EA6;\n",
              "    }\n",
              "\n",
              "    [theme=dark] .colab-df-convert {\n",
              "      background-color: #3B4455;\n",
              "      fill: #D2E3FC;\n",
              "    }\n",
              "\n",
              "    [theme=dark] .colab-df-convert:hover {\n",
              "      background-color: #434B5C;\n",
              "      box-shadow: 0px 1px 3px 1px rgba(0, 0, 0, 0.15);\n",
              "      filter: drop-shadow(0px 1px 2px rgba(0, 0, 0, 0.3));\n",
              "      fill: #FFFFFF;\n",
              "    }\n",
              "  </style>\n",
              "\n",
              "      <script>\n",
              "        const buttonEl =\n",
              "          document.querySelector('#df-fe0537fd-ef01-4d1e-8389-c9fa92a228a9 button.colab-df-convert');\n",
              "        buttonEl.style.display =\n",
              "          google.colab.kernel.accessAllowed ? 'block' : 'none';\n",
              "\n",
              "        async function convertToInteractive(key) {\n",
              "          const element = document.querySelector('#df-fe0537fd-ef01-4d1e-8389-c9fa92a228a9');\n",
              "          const dataTable =\n",
              "            await google.colab.kernel.invokeFunction('convertToInteractive',\n",
              "                                                     [key], {});\n",
              "          if (!dataTable) return;\n",
              "\n",
              "          const docLinkHtml = 'Like what you see? Visit the ' +\n",
              "            '<a target=\"_blank\" href=https://colab.research.google.com/notebooks/data_table.ipynb>data table notebook</a>'\n",
              "            + ' to learn more about interactive tables.';\n",
              "          element.innerHTML = '';\n",
              "          dataTable['output_type'] = 'display_data';\n",
              "          await google.colab.output.renderOutput(dataTable, element);\n",
              "          const docLink = document.createElement('div');\n",
              "          docLink.innerHTML = docLinkHtml;\n",
              "          element.appendChild(docLink);\n",
              "        }\n",
              "      </script>\n",
              "    </div>\n",
              "  </div>\n",
              "  "
            ]
          },
          "metadata": {},
          "execution_count": 9
        }
      ]
    },
    {
      "cell_type": "code",
      "source": [
        "df.dtypes"
      ],
      "metadata": {
        "colab": {
          "base_uri": "https://localhost:8080/"
        },
        "id": "V-ww3agFqzMb",
        "outputId": "3a5a77b1-76a6-40cc-c6d6-c98f6bd0c3d1"
      },
      "execution_count": null,
      "outputs": [
        {
          "output_type": "execute_result",
          "data": {
            "text/plain": [
              "array(['southeast', 'southwest', 'northwest', 'northeast'], dtype=object)"
            ]
          },
          "metadata": {},
          "execution_count": 67
        }
      ]
    },
    {
      "cell_type": "markdown",
      "metadata": {
        "id": "dgzrRcDUcOXo"
      },
      "source": [
        "##### Q2. Qual a quantidade de casos por região?"
      ]
    },
    {
      "cell_type": "code",
      "source": [
        "selecao = df[\"region\"] == \"southwest\"\n",
        "df[selecao].shape[0]\n",
        "print(f\"A quantidade de registros em southwest é de {df[selecao].shape[0]}\")"
      ],
      "metadata": {
        "colab": {
          "base_uri": "https://localhost:8080/"
        },
        "id": "zMa2-8YUq180",
        "outputId": "9b320f22-7ed9-4d57-828d-354f4c6c9ff0"
      },
      "execution_count": null,
      "outputs": [
        {
          "output_type": "stream",
          "name": "stdout",
          "text": [
            "A quantidade de registros em southwest é de 325\n"
          ]
        }
      ]
    },
    {
      "cell_type": "code",
      "source": [
        "selecao = df[\"region\"] == \"northwest\"\n",
        "print(f\"A quantidade de registros em northwest é de {df[selecao].shape[0]}\")"
      ],
      "metadata": {
        "colab": {
          "base_uri": "https://localhost:8080/"
        },
        "id": "5CZJTI4Wsr3-",
        "outputId": "9b9cda45-8819-4171-ea51-4a0987c79461"
      },
      "execution_count": null,
      "outputs": [
        {
          "output_type": "stream",
          "name": "stdout",
          "text": [
            "A quantidade de registros em northwest é de 325\n"
          ]
        }
      ]
    },
    {
      "cell_type": "code",
      "source": [
        "selecao = df[\"region\"] == \"northeast\"\n",
        "print(f\"A quantidade de registros em northeast é de {df[selecao].shape[0]}\")"
      ],
      "metadata": {
        "colab": {
          "base_uri": "https://localhost:8080/"
        },
        "id": "LtxWpkEP2gjH",
        "outputId": "ecb2a916-a867-455d-b183-7aff4f2a9a96"
      },
      "execution_count": null,
      "outputs": [
        {
          "output_type": "stream",
          "name": "stdout",
          "text": [
            "A quantidade de registros em northeast é de 324\n"
          ]
        }
      ]
    },
    {
      "cell_type": "code",
      "source": [
        "selecao = df[\"region\"] == \"southeast\"\n",
        "print(f\"A quantidade de registros em southeast é de {df[selecao].shape[0]}\")"
      ],
      "metadata": {
        "colab": {
          "base_uri": "https://localhost:8080/"
        },
        "id": "PiPKw8iy2gZQ",
        "outputId": "f34a1ddf-03ea-4d04-b1df-8cfc1d2e5b83"
      },
      "execution_count": null,
      "outputs": [
        {
          "output_type": "stream",
          "name": "stdout",
          "text": [
            "A quantidade de registros em southeast é de 364\n"
          ]
        }
      ]
    },
    {
      "cell_type": "markdown",
      "metadata": {
        "id": "QQxhcHxLd0eE"
      },
      "source": [
        "##### Q3. Qual a média dos pagamentos (charges) efetuados?"
      ]
    },
    {
      "cell_type": "code",
      "source": [
        "print(f\"A média de pagamentos é de {df.charges.mean():.2f}\")"
      ],
      "metadata": {
        "colab": {
          "base_uri": "https://localhost:8080/"
        },
        "id": "ZDO_Ue1ys8HU",
        "outputId": "c082eb74-ff31-4138-f6fd-de915cd214d5"
      },
      "execution_count": null,
      "outputs": [
        {
          "output_type": "stream",
          "name": "stdout",
          "text": [
            "A média de pagamentos é de 13270.42\n"
          ]
        }
      ]
    },
    {
      "cell_type": "markdown",
      "metadata": {
        "id": "C8u7kGA1eCIn"
      },
      "source": [
        "##### Q4. Qual a média dos pagamentos (charges) dos 10 maiores pagamentos efetuados?"
      ]
    },
    {
      "cell_type": "code",
      "source": [
        "\n",
        "selecao = df.sort_values(\"charges\").iloc[1:11]\n",
        "print(f\"A média das 10 maiores gorjetas é de {selecao.charges.mean().round(2)}\")"
      ],
      "metadata": {
        "colab": {
          "base_uri": "https://localhost:8080/"
        },
        "id": "SFtfyJeUt_dr",
        "outputId": "a374af98-9234-41e4-9172-9616570f5e61"
      },
      "execution_count": null,
      "outputs": [
        {
          "output_type": "stream",
          "name": "stdout",
          "text": [
            "A média das 10 maiores gorjetas é de 1152.1\n"
          ]
        }
      ]
    },
    {
      "cell_type": "markdown",
      "source": [
        "##### Q5. Qual o percentual de mulheres seguradas?"
      ],
      "metadata": {
        "id": "mWwsITSc3zMT"
      }
    },
    {
      "cell_type": "code",
      "source": [
        "selecao = df[\"sex\"] == \"female\"\n",
        "num_total = df.shape[0]\n",
        "num_mulheres = df[selecao].shape[0]\n",
        "porcentagem = (num_mulheres/num_total)*100\n",
        "print(f\"O percentual de mulheres seguradas é de {porcentagem:.2f}%\")\n"
      ],
      "metadata": {
        "colab": {
          "base_uri": "https://localhost:8080/"
        },
        "id": "kumP2Ou3v9KT",
        "outputId": "398b665e-5ef8-4dfc-ed21-8e5781413fcf"
      },
      "execution_count": null,
      "outputs": [
        {
          "output_type": "stream",
          "name": "stdout",
          "text": [
            "O percentual de mulheres seguradas é de 49.48%\n"
          ]
        }
      ]
    },
    {
      "cell_type": "markdown",
      "source": [
        "##### Q6. Qual o percentual de mulheres seguradas?"
      ],
      "metadata": {
        "id": "GY1dvNJ43-W-"
      }
    },
    {
      "cell_type": "code",
      "source": [
        "selecao = df[\"sex\"] == \"male\"\n",
        "num_total = df.shape[0]\n",
        "num_homens = df[selecao].shape[0]\n",
        "porcentagem = (num_homens/num_total)*100\n",
        "print(f\"O percentual de mulheres seguradas é de {porcentagem:.2f}%\")"
      ],
      "metadata": {
        "colab": {
          "base_uri": "https://localhost:8080/"
        },
        "id": "EVLgsrhnw3wt",
        "outputId": "3fc64652-77e4-4184-f619-f600f4bf853c"
      },
      "execution_count": null,
      "outputs": [
        {
          "output_type": "stream",
          "name": "stdout",
          "text": [
            "O percentual de mulheres seguradas é de 50.52%\n"
          ]
        }
      ]
    },
    {
      "cell_type": "markdown",
      "source": [
        "##### Q7. Qual o valor médio pago pelos homens segurados?"
      ],
      "metadata": {
        "id": "P-oLe1IX4Pj8"
      }
    },
    {
      "cell_type": "code",
      "source": [
        "selecao = df[\"sex\"] == \"male\"\n",
        "media = df[selecao].charges.mean()\n",
        "print(f\"A média paga pelos homens é de {media:.2f}\")"
      ],
      "metadata": {
        "colab": {
          "base_uri": "https://localhost:8080/"
        },
        "id": "kKUECec8w8qJ",
        "outputId": "70c0cef1-aa16-4d8a-dc0c-50f6aab91b48"
      },
      "execution_count": null,
      "outputs": [
        {
          "output_type": "stream",
          "name": "stdout",
          "text": [
            "A média paga pelos homens é de 13956.75\n"
          ]
        }
      ]
    },
    {
      "cell_type": "markdown",
      "source": [
        "##### Q8. Qual a média de idade dos homens e mulheres?"
      ],
      "metadata": {
        "id": "7qBWgz2p4Xnb"
      }
    },
    {
      "cell_type": "code",
      "source": [
        "selecao = df[\"sex\"] == \"male\"\n",
        "mediahomens = df[selecao].age.mean()\n",
        "selecao = df[\"sex\"] == \"female\"\n",
        "mediamulheres = df[selecao].age.mean()\n",
        "print(f\"A média de idade de homens é de {mediahomens:.2f}\\nA média de idade de mulheres é de {mediamulheres:.2f}\")"
      ],
      "metadata": {
        "colab": {
          "base_uri": "https://localhost:8080/"
        },
        "id": "BCv1n4M6xVnH",
        "outputId": "dc82d07b-c4e0-47d2-fde9-699db421ce70"
      },
      "execution_count": null,
      "outputs": [
        {
          "output_type": "stream",
          "name": "stdout",
          "text": [
            "A média de idade de homens é de 38.92\n",
            "A média de idade de mulheres é de 39.50\n"
          ]
        }
      ]
    },
    {
      "cell_type": "markdown",
      "metadata": {
        "id": "vJiFmcL7fCdt"
      },
      "source": [
        "##### Q9. Calcule a distância interquartis dos pagamentos.\n",
        "\n",
        "**Dica** Empregue a função `quantile()` do `Pandas` e use IQR = Q3 - Q1.\n",
        "\n"
      ]
    },
    {
      "cell_type": "code",
      "source": [
        "q1 = float(df.charges.quantile([0.25]))\n",
        "q3 = float(df.charges.quantile([0.75]))\n",
        "diqr = q3-q1\n",
        "print(f\"A distância interquartil é de {diqr}\")"
      ],
      "metadata": {
        "colab": {
          "base_uri": "https://localhost:8080/"
        },
        "id": "jnIhnYxAx-6A",
        "outputId": "4b2db53f-ae57-467e-a7e4-0dddf2f728d7"
      },
      "execution_count": null,
      "outputs": [
        {
          "output_type": "stream",
          "name": "stdout",
          "text": [
            "A distância interquartil é de 11899.625365\n"
          ]
        }
      ]
    },
    {
      "cell_type": "markdown",
      "metadata": {
        "id": "Mjn6AADVfpUf"
      },
      "source": [
        "##### Q10. Empregue o valor IQR da questão anterior para verificar se existem *outliers* dos pagamentos.\n",
        "\n",
        "**Dica** *outliers* são dados fora do intervalo $[Q1 - 1.5 IQR, Q3 + 1.5 IQR]$ "
      ]
    },
    {
      "cell_type": "code",
      "source": [
        "intervalo1 = q1-(1.5*diqr)\n",
        "intervalo2 = q3+(1.5*diqr)\n",
        "selecao = (df[\"charges\"] <= intervalo1) & (df[\"charges\"] >= intervalo2)\n",
        "if(df[selecao].shape[0] == 0):\n",
        "  print(\"Não existem outliers\")\n",
        "else:\n",
        "  print(f\"Existem {df[selecao].shape[0]} outliers!\")"
      ],
      "metadata": {
        "colab": {
          "base_uri": "https://localhost:8080/"
        },
        "id": "GmECKWtKz5nV",
        "outputId": "0de62282-f5f9-4398-b334-939425c4402c"
      },
      "execution_count": null,
      "outputs": [
        {
          "output_type": "stream",
          "name": "stdout",
          "text": [
            "Não existem outliers\n"
          ]
        }
      ]
    },
    {
      "cell_type": "markdown",
      "source": [
        "##### Q11. Faça um gráfico de caixa dos valores de `charges` para homens e mulheres."
      ],
      "metadata": {
        "id": "VBjm2Fbm5Bcq"
      }
    },
    {
      "cell_type": "code",
      "source": [
        "sns.boxplot(x=\"sex\", y=\"charges\", data=df)\n",
        "plt.title(\"Gráfico de Caixa Cobrança x Sexo\")\n",
        "plt.xlabel(\"Sexo\")\n",
        "plt.ylabel(\"Cobrança\")\n",
        "plt.show()"
      ],
      "metadata": {
        "colab": {
          "base_uri": "https://localhost:8080/",
          "height": 472
        },
        "id": "sRBg7CKn1NL4",
        "outputId": "f5d0186c-44ab-4703-9d9b-0d4864ae48cf"
      },
      "execution_count": null,
      "outputs": [
        {
          "output_type": "display_data",
          "data": {
            "text/plain": [
              "<Figure size 640x480 with 1 Axes>"
            ],
            "image/png": "[encoded data removed]"
          },
          "metadata": {}
        }
      ]
    }
  ]
}